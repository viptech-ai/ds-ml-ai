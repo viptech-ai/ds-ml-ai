{
 "cells": [
  {
   "cell_type": "markdown",
   "execution_count": null,
   "metadata": {
    "papermill": {
     "duration": 0.021958,
     "end_time": "2020-08-30T19:53:41.051204",
     "exception": false,
     "start_time": "2020-08-30T19:53:41.029246",
     "status": "completed"
    },
    "tags": []
   },
   "source": [
    "# Comment"
   ]
  },
  {
   "cell_type": "code",
   "execution_count": 1,
   "metadata": {
    "_cell_guid": "79c7e3d0-c299-4dcb-8224-4455121ee9b0",
    "_uuid": "d629ff2d2480ee46fbb7e2d37f6b5fab8052498a",
    "execution": {
     "iopub.execute_input": "2020-08-30T19:53:41.095783Z",
     "iopub.status.busy": "2020-08-30T19:53:41.094674Z",
     "iopub.status.idle": "2020-08-30T19:53:41.098276Z",
     "shell.execute_reply": "2020-08-30T19:53:41.097479Z"
    },
    "papermill": {
     "duration": 0.027603,
     "end_time": "2020-08-30T19:53:41.098412",
     "exception": false,
     "start_time": "2020-08-30T19:53:41.070809",
     "status": "completed"
    },
    "tags": []
   },
   "outputs": [],
   "source": [
    "# Single line comments"
   ]
  },
  {
   "cell_type": "code",
   "execution_count": 2,
   "metadata": {
    "execution": {
     "iopub.execute_input": "2020-08-30T19:53:41.144876Z",
     "iopub.status.busy": "2020-08-30T19:53:41.143687Z",
     "iopub.status.idle": "2020-08-30T19:53:41.148138Z",
     "shell.execute_reply": "2020-08-30T19:53:41.148703Z"
    },
    "papermill": {
     "duration": 0.03113,
     "end_time": "2020-08-30T19:53:41.148860",
     "exception": false,
     "start_time": "2020-08-30T19:53:41.117730",
     "status": "completed"
    },
    "tags": []
   },
   "outputs": [
    {
     "data": {
      "text/plain": [
       "'\\nMulti line comments in python , they can span \\nover a lot of lines.\\n'"
      ]
     },
     "execution_count": 2,
     "metadata": {},
     "output_type": "execute_result"
    }
   ],
   "source": [
    "\"\"\"\n",
    "Multi line comments in python , they can span \n",
    "over a lot of lines.\n",
    "\"\"\""
   ]
  },
  {
   "cell_type": "markdown",
   "execution_count": null,
   "metadata": {
    "papermill": {
     "duration": 0.019343,
     "end_time": "2020-08-30T19:53:41.187861",
     "exception": false,
     "start_time": "2020-08-30T19:53:41.168518",
     "status": "completed"
    },
    "tags": []
   },
   "source": [
    "# Print"
   ]
  },
  {
   "cell_type": "code",
   "execution_count": 3,
   "metadata": {
    "execution": {
     "iopub.execute_input": "2020-08-30T19:53:41.233212Z",
     "iopub.status.busy": "2020-08-30T19:53:41.232157Z",
     "iopub.status.idle": "2020-08-30T19:53:41.236340Z",
     "shell.execute_reply": "2020-08-30T19:53:41.236940Z"
    },
    "papermill": {
     "duration": 0.029695,
     "end_time": "2020-08-30T19:53:41.237121",
     "exception": false,
     "start_time": "2020-08-30T19:53:41.207426",
     "status": "completed"
    },
    "tags": []
   },
   "outputs": [
    {
     "name": "stdout",
     "output_type": "stream",
     "text": [
      "This is through a print statement.\n"
     ]
    }
   ],
   "source": [
    "print(\"This is through a print statement.\")"
   ]
  },
  {
   "cell_type": "markdown",
   "execution_count": null,
   "metadata": {
    "papermill": {
     "duration": 0.019652,
     "end_time": "2020-08-30T19:53:41.276697",
     "exception": false,
     "start_time": "2020-08-30T19:53:41.257045",
     "status": "completed"
    },
    "tags": []
   },
   "source": [
    "# Import a library"
   ]
  },
  {
   "cell_type": "code",
   "execution_count": 4,
   "metadata": {
    "execution": {
     "iopub.execute_input": "2020-08-30T19:53:41.322352Z",
     "iopub.status.busy": "2020-08-30T19:53:41.321394Z",
     "iopub.status.idle": "2020-08-30T19:53:41.324852Z",
     "shell.execute_reply": "2020-08-30T19:53:41.325637Z"
    },
    "papermill": {
     "duration": 0.029413,
     "end_time": "2020-08-30T19:53:41.325844",
     "exception": false,
     "start_time": "2020-08-30T19:53:41.296431",
     "status": "completed"
    },
    "tags": []
   },
   "outputs": [
    {
     "name": "stdout",
     "output_type": "stream",
     "text": [
      "3.141592653589793\n"
     ]
    }
   ],
   "source": [
    "import math\n",
    "\n",
    "print(math.pi)"
   ]
  },
  {
   "cell_type": "markdown",
   "execution_count": null,
   "metadata": {
    "papermill": {
     "duration": 0.020063,
     "end_time": "2020-08-30T19:53:41.366929",
     "exception": false,
     "start_time": "2020-08-30T19:53:41.346866",
     "status": "completed"
    },
    "tags": []
   },
   "source": [
    "# Help"
   ]
  },
  {
   "cell_type": "code",
   "execution_count": 5,
   "metadata": {
    "execution": {
     "iopub.execute_input": "2020-08-30T19:53:41.412889Z",
     "iopub.status.busy": "2020-08-30T19:53:41.411953Z",
     "iopub.status.idle": "2020-08-30T19:53:41.415861Z",
     "shell.execute_reply": "2020-08-30T19:53:41.416739Z"
    },
    "papermill": {
     "duration": 0.02992,
     "end_time": "2020-08-30T19:53:41.416904",
     "exception": false,
     "start_time": "2020-08-30T19:53:41.386984",
     "status": "completed"
    },
    "tags": []
   },
   "outputs": [
    {
     "name": "stdout",
     "output_type": "stream",
     "text": [
      "Help on built-in function print in module builtins:\n",
      "\n",
      "print(...)\n",
      "    print(value, ..., sep=' ', end='\\n', file=sys.stdout, flush=False)\n",
      "    \n",
      "    Prints the values to a stream, or to sys.stdout by default.\n",
      "    Optional keyword arguments:\n",
      "    file:  a file-like object (stream); defaults to the current sys.stdout.\n",
      "    sep:   string inserted between values, default a space.\n",
      "    end:   string appended after the last value, default a newline.\n",
      "    flush: whether to forcibly flush the stream.\n",
      "\n"
     ]
    }
   ],
   "source": [
    "# getting help on a function is as easy as:\n",
    "help(print)"
   ]
  },
  {
   "cell_type": "code",
   "execution_count": 6,
   "metadata": {
    "execution": {
     "iopub.execute_input": "2020-08-30T19:53:41.482785Z",
     "iopub.status.busy": "2020-08-30T19:53:41.477270Z",
     "iopub.status.idle": "2020-08-30T19:53:41.491143Z",
     "shell.execute_reply": "2020-08-30T19:53:41.490339Z"
    },
    "papermill": {
     "duration": 0.053229,
     "end_time": "2020-08-30T19:53:41.491275",
     "exception": false,
     "start_time": "2020-08-30T19:53:41.438046",
     "status": "completed"
    },
    "tags": []
   },
   "outputs": [
    {
     "name": "stdout",
     "output_type": "stream",
     "text": [
      "Help on module math:\n",
      "\n",
      "NAME\n",
      "    math\n",
      "\n",
      "MODULE REFERENCE\n",
      "    https://docs.python.org/3.7/library/math\n",
      "    \n",
      "    The following documentation is automatically generated from the Python\n",
      "    source files.  It may be incomplete, incorrect or include features that\n",
      "    are considered implementation detail and may vary between Python\n",
      "    implementations.  When in doubt, consult the module reference at the\n",
      "    location listed above.\n",
      "\n",
      "DESCRIPTION\n",
      "    This module provides access to the mathematical functions\n",
      "    defined by the C standard.\n",
      "\n",
      "FUNCTIONS\n",
      "    acos(x, /)\n",
      "        Return the arc cosine (measured in radians) of x.\n",
      "    \n",
      "    acosh(x, /)\n",
      "        Return the inverse hyperbolic cosine of x.\n",
      "    \n",
      "    asin(x, /)\n",
      "        Return the arc sine (measured in radians) of x.\n",
      "    \n",
      "    asinh(x, /)\n",
      "        Return the inverse hyperbolic sine of x.\n",
      "    \n",
      "    atan(x, /)\n",
      "        Return the arc tangent (measured in radians) of x.\n",
      "    \n",
      "    atan2(y, x, /)\n",
      "        Return the arc tangent (measured in radians) of y/x.\n",
      "        \n",
      "        Unlike atan(y/x), the signs of both x and y are considered.\n",
      "    \n",
      "    atanh(x, /)\n",
      "        Return the inverse hyperbolic tangent of x.\n",
      "    \n",
      "    ceil(x, /)\n",
      "        Return the ceiling of x as an Integral.\n",
      "        \n",
      "        This is the smallest integer >= x.\n",
      "    \n",
      "    copysign(x, y, /)\n",
      "        Return a float with the magnitude (absolute value) of x but the sign of y.\n",
      "        \n",
      "        On platforms that support signed zeros, copysign(1.0, -0.0)\n",
      "        returns -1.0.\n",
      "    \n",
      "    cos(x, /)\n",
      "        Return the cosine of x (measured in radians).\n",
      "    \n",
      "    cosh(x, /)\n",
      "        Return the hyperbolic cosine of x.\n",
      "    \n",
      "    degrees(x, /)\n",
      "        Convert angle x from radians to degrees.\n",
      "    \n",
      "    erf(x, /)\n",
      "        Error function at x.\n",
      "    \n",
      "    erfc(x, /)\n",
      "        Complementary error function at x.\n",
      "    \n",
      "    exp(x, /)\n",
      "        Return e raised to the power of x.\n",
      "    \n",
      "    expm1(x, /)\n",
      "        Return exp(x)-1.\n",
      "        \n",
      "        This function avoids the loss of precision involved in the direct evaluation of exp(x)-1 for small x.\n",
      "    \n",
      "    fabs(x, /)\n",
      "        Return the absolute value of the float x.\n",
      "    \n",
      "    factorial(x, /)\n",
      "        Find x!.\n",
      "        \n",
      "        Raise a ValueError if x is negative or non-integral.\n",
      "    \n",
      "    floor(x, /)\n",
      "        Return the floor of x as an Integral.\n",
      "        \n",
      "        This is the largest integer <= x.\n",
      "    \n",
      "    fmod(x, y, /)\n",
      "        Return fmod(x, y), according to platform C.\n",
      "        \n",
      "        x % y may differ.\n",
      "    \n",
      "    frexp(x, /)\n",
      "        Return the mantissa and exponent of x, as pair (m, e).\n",
      "        \n",
      "        m is a float and e is an int, such that x = m * 2.**e.\n",
      "        If x is 0, m and e are both 0.  Else 0.5 <= abs(m) < 1.0.\n",
      "    \n",
      "    fsum(seq, /)\n",
      "        Return an accurate floating point sum of values in the iterable seq.\n",
      "        \n",
      "        Assumes IEEE-754 floating point arithmetic.\n",
      "    \n",
      "    gamma(x, /)\n",
      "        Gamma function at x.\n",
      "    \n",
      "    gcd(x, y, /)\n",
      "        greatest common divisor of x and y\n",
      "    \n",
      "    hypot(x, y, /)\n",
      "        Return the Euclidean distance, sqrt(x*x + y*y).\n",
      "    \n",
      "    isclose(a, b, *, rel_tol=1e-09, abs_tol=0.0)\n",
      "        Determine whether two floating point numbers are close in value.\n",
      "        \n",
      "          rel_tol\n",
      "            maximum difference for being considered \"close\", relative to the\n",
      "            magnitude of the input values\n",
      "          abs_tol\n",
      "            maximum difference for being considered \"close\", regardless of the\n",
      "            magnitude of the input values\n",
      "        \n",
      "        Return True if a is close in value to b, and False otherwise.\n",
      "        \n",
      "        For the values to be considered close, the difference between them\n",
      "        must be smaller than at least one of the tolerances.\n",
      "        \n",
      "        -inf, inf and NaN behave similarly to the IEEE 754 Standard.  That\n",
      "        is, NaN is not close to anything, even itself.  inf and -inf are\n",
      "        only close to themselves.\n",
      "    \n",
      "    isfinite(x, /)\n",
      "        Return True if x is neither an infinity nor a NaN, and False otherwise.\n",
      "    \n",
      "    isinf(x, /)\n",
      "        Return True if x is a positive or negative infinity, and False otherwise.\n",
      "    \n",
      "    isnan(x, /)\n",
      "        Return True if x is a NaN (not a number), and False otherwise.\n",
      "    \n",
      "    ldexp(x, i, /)\n",
      "        Return x * (2**i).\n",
      "        \n",
      "        This is essentially the inverse of frexp().\n",
      "    \n",
      "    lgamma(x, /)\n",
      "        Natural logarithm of absolute value of Gamma function at x.\n",
      "    \n",
      "    log(...)\n",
      "        log(x, [base=math.e])\n",
      "        Return the logarithm of x to the given base.\n",
      "        \n",
      "        If the base not specified, returns the natural logarithm (base e) of x.\n",
      "    \n",
      "    log10(x, /)\n",
      "        Return the base 10 logarithm of x.\n",
      "    \n",
      "    log1p(x, /)\n",
      "        Return the natural logarithm of 1+x (base e).\n",
      "        \n",
      "        The result is computed in a way which is accurate for x near zero.\n",
      "    \n",
      "    log2(x, /)\n",
      "        Return the base 2 logarithm of x.\n",
      "    \n",
      "    modf(x, /)\n",
      "        Return the fractional and integer parts of x.\n",
      "        \n",
      "        Both results carry the sign of x and are floats.\n",
      "    \n",
      "    pow(x, y, /)\n",
      "        Return x**y (x to the power of y).\n",
      "    \n",
      "    radians(x, /)\n",
      "        Convert angle x from degrees to radians.\n",
      "    \n",
      "    remainder(x, y, /)\n",
      "        Difference between x and the closest integer multiple of y.\n",
      "        \n",
      "        Return x - n*y where n*y is the closest integer multiple of y.\n",
      "        In the case where x is exactly halfway between two multiples of\n",
      "        y, the nearest even value of n is used. The result is always exact.\n",
      "    \n",
      "    sin(x, /)\n",
      "        Return the sine of x (measured in radians).\n",
      "    \n",
      "    sinh(x, /)\n",
      "        Return the hyperbolic sine of x.\n",
      "    \n",
      "    sqrt(x, /)\n",
      "        Return the square root of x.\n",
      "    \n",
      "    tan(x, /)\n",
      "        Return the tangent of x (measured in radians).\n",
      "    \n",
      "    tanh(x, /)\n",
      "        Return the hyperbolic tangent of x.\n",
      "    \n",
      "    trunc(x, /)\n",
      "        Truncates the Real x to the nearest Integral toward 0.\n",
      "        \n",
      "        Uses the __trunc__ magic method.\n",
      "\n",
      "DATA\n",
      "    e = 2.718281828459045\n",
      "    inf = inf\n",
      "    nan = nan\n",
      "    pi = 3.141592653589793\n",
      "    tau = 6.283185307179586\n",
      "\n",
      "FILE\n",
      "    /opt/conda/lib/python3.7/lib-dynload/math.cpython-37m-x86_64-linux-gnu.so\n",
      "\n",
      "\n"
     ]
    }
   ],
   "source": [
    "help(math) # help on library"
   ]
  },
  {
   "cell_type": "code",
   "execution_count": 7,
   "metadata": {
    "execution": {
     "iopub.execute_input": "2020-08-30T19:53:41.557311Z",
     "iopub.status.busy": "2020-08-30T19:53:41.556497Z",
     "iopub.status.idle": "2020-08-30T19:53:41.562087Z",
     "shell.execute_reply": "2020-08-30T19:53:41.561258Z"
    },
    "papermill": {
     "duration": 0.050327,
     "end_time": "2020-08-30T19:53:41.562249",
     "exception": false,
     "start_time": "2020-08-30T19:53:41.511922",
     "status": "completed"
    },
    "tags": []
   },
   "outputs": [
    {
     "name": "stdout",
     "output_type": "stream",
     "text": [
      "Help on float object:\n",
      "\n",
      "class float(object)\n",
      " |  float(x=0, /)\n",
      " |  \n",
      " |  Convert a string or number to a floating point number, if possible.\n",
      " |  \n",
      " |  Methods defined here:\n",
      " |  \n",
      " |  __abs__(self, /)\n",
      " |      abs(self)\n",
      " |  \n",
      " |  __add__(self, value, /)\n",
      " |      Return self+value.\n",
      " |  \n",
      " |  __bool__(self, /)\n",
      " |      self != 0\n",
      " |  \n",
      " |  __divmod__(self, value, /)\n",
      " |      Return divmod(self, value).\n",
      " |  \n",
      " |  __eq__(self, value, /)\n",
      " |      Return self==value.\n",
      " |  \n",
      " |  __float__(self, /)\n",
      " |      float(self)\n",
      " |  \n",
      " |  __floordiv__(self, value, /)\n",
      " |      Return self//value.\n",
      " |  \n",
      " |  __format__(self, format_spec, /)\n",
      " |      Formats the float according to format_spec.\n",
      " |  \n",
      " |  __ge__(self, value, /)\n",
      " |      Return self>=value.\n",
      " |  \n",
      " |  __getattribute__(self, name, /)\n",
      " |      Return getattr(self, name).\n",
      " |  \n",
      " |  __getnewargs__(self, /)\n",
      " |  \n",
      " |  __gt__(self, value, /)\n",
      " |      Return self>value.\n",
      " |  \n",
      " |  __hash__(self, /)\n",
      " |      Return hash(self).\n",
      " |  \n",
      " |  __int__(self, /)\n",
      " |      int(self)\n",
      " |  \n",
      " |  __le__(self, value, /)\n",
      " |      Return self<=value.\n",
      " |  \n",
      " |  __lt__(self, value, /)\n",
      " |      Return self<value.\n",
      " |  \n",
      " |  __mod__(self, value, /)\n",
      " |      Return self%value.\n",
      " |  \n",
      " |  __mul__(self, value, /)\n",
      " |      Return self*value.\n",
      " |  \n",
      " |  __ne__(self, value, /)\n",
      " |      Return self!=value.\n",
      " |  \n",
      " |  __neg__(self, /)\n",
      " |      -self\n",
      " |  \n",
      " |  __pos__(self, /)\n",
      " |      +self\n",
      " |  \n",
      " |  __pow__(self, value, mod=None, /)\n",
      " |      Return pow(self, value, mod).\n",
      " |  \n",
      " |  __radd__(self, value, /)\n",
      " |      Return value+self.\n",
      " |  \n",
      " |  __rdivmod__(self, value, /)\n",
      " |      Return divmod(value, self).\n",
      " |  \n",
      " |  __repr__(self, /)\n",
      " |      Return repr(self).\n",
      " |  \n",
      " |  __rfloordiv__(self, value, /)\n",
      " |      Return value//self.\n",
      " |  \n",
      " |  __rmod__(self, value, /)\n",
      " |      Return value%self.\n",
      " |  \n",
      " |  __rmul__(self, value, /)\n",
      " |      Return value*self.\n",
      " |  \n",
      " |  __round__(self, ndigits=None, /)\n",
      " |      Return the Integral closest to x, rounding half toward even.\n",
      " |      \n",
      " |      When an argument is passed, work like built-in round(x, ndigits).\n",
      " |  \n",
      " |  __rpow__(self, value, mod=None, /)\n",
      " |      Return pow(value, self, mod).\n",
      " |  \n",
      " |  __rsub__(self, value, /)\n",
      " |      Return value-self.\n",
      " |  \n",
      " |  __rtruediv__(self, value, /)\n",
      " |      Return value/self.\n",
      " |  \n",
      " |  __str__(self, /)\n",
      " |      Return str(self).\n",
      " |  \n",
      " |  __sub__(self, value, /)\n",
      " |      Return self-value.\n",
      " |  \n",
      " |  __truediv__(self, value, /)\n",
      " |      Return self/value.\n",
      " |  \n",
      " |  __trunc__(self, /)\n",
      " |      Return the Integral closest to x between 0 and x.\n",
      " |  \n",
      " |  as_integer_ratio(self, /)\n",
      " |      Return integer ratio.\n",
      " |      \n",
      " |      Return a pair of integers, whose ratio is exactly equal to the original float\n",
      " |      and with a positive denominator.\n",
      " |      \n",
      " |      Raise OverflowError on infinities and a ValueError on NaNs.\n",
      " |      \n",
      " |      >>> (10.0).as_integer_ratio()\n",
      " |      (10, 1)\n",
      " |      >>> (0.0).as_integer_ratio()\n",
      " |      (0, 1)\n",
      " |      >>> (-.25).as_integer_ratio()\n",
      " |      (-1, 4)\n",
      " |  \n",
      " |  conjugate(self, /)\n",
      " |      Return self, the complex conjugate of any float.\n",
      " |  \n",
      " |  hex(self, /)\n",
      " |      Return a hexadecimal representation of a floating-point number.\n",
      " |      \n",
      " |      >>> (-0.1).hex()\n",
      " |      '-0x1.999999999999ap-4'\n",
      " |      >>> 3.14159.hex()\n",
      " |      '0x1.921f9f01b866ep+1'\n",
      " |  \n",
      " |  is_integer(self, /)\n",
      " |      Return True if the float is an integer.\n",
      " |  \n",
      " |  ----------------------------------------------------------------------\n",
      " |  Class methods defined here:\n",
      " |  \n",
      " |  __getformat__(typestr, /) from builtins.type\n",
      " |      You probably don't want to use this function.\n",
      " |      \n",
      " |        typestr\n",
      " |          Must be 'double' or 'float'.\n",
      " |      \n",
      " |      It exists mainly to be used in Python's test suite.\n",
      " |      \n",
      " |      This function returns whichever of 'unknown', 'IEEE, big-endian' or 'IEEE,\n",
      " |      little-endian' best describes the format of floating point numbers used by the\n",
      " |      C type named by typestr.\n",
      " |  \n",
      " |  __set_format__(typestr, fmt, /) from builtins.type\n",
      " |      You probably don't want to use this function.\n",
      " |      \n",
      " |        typestr\n",
      " |          Must be 'double' or 'float'.\n",
      " |        fmt\n",
      " |          Must be one of 'unknown', 'IEEE, big-endian' or 'IEEE, little-endian',\n",
      " |          and in addition can only be one of the latter two if it appears to\n",
      " |          match the underlying C reality.\n",
      " |      \n",
      " |      It exists mainly to be used in Python's test suite.\n",
      " |      \n",
      " |      Override the automatic determination of C-level floating point type.\n",
      " |      This affects how floats are converted to and from binary strings.\n",
      " |  \n",
      " |  fromhex(string, /) from builtins.type\n",
      " |      Create a floating-point number from a hexadecimal string.\n",
      " |      \n",
      " |      >>> float.fromhex('0x1.ffffp10')\n",
      " |      2047.984375\n",
      " |      >>> float.fromhex('-0x1p-1074')\n",
      " |      -5e-324\n",
      " |  \n",
      " |  ----------------------------------------------------------------------\n",
      " |  Static methods defined here:\n",
      " |  \n",
      " |  __new__(*args, **kwargs) from builtins.type\n",
      " |      Create and return a new object.  See help(type) for accurate signature.\n",
      " |  \n",
      " |  ----------------------------------------------------------------------\n",
      " |  Data descriptors defined here:\n",
      " |  \n",
      " |  imag\n",
      " |      the imaginary part of a complex number\n",
      " |  \n",
      " |  real\n",
      " |      the real part of a complex number\n",
      "\n"
     ]
    }
   ],
   "source": [
    "help(math.pi) # help on a variable from library"
   ]
  },
  {
   "cell_type": "markdown",
   "execution_count": null,
   "metadata": {
    "papermill": {
     "duration": 0.020487,
     "end_time": "2020-08-30T19:53:41.604253",
     "exception": false,
     "start_time": "2020-08-30T19:53:41.583766",
     "status": "completed"
    },
    "tags": []
   },
   "source": [
    "# dir function"
   ]
  },
  {
   "cell_type": "code",
   "execution_count": 8,
   "metadata": {
    "execution": {
     "iopub.execute_input": "2020-08-30T19:53:41.651392Z",
     "iopub.status.busy": "2020-08-30T19:53:41.650639Z",
     "iopub.status.idle": "2020-08-30T19:53:41.654762Z",
     "shell.execute_reply": "2020-08-30T19:53:41.654007Z"
    },
    "papermill": {
     "duration": 0.029879,
     "end_time": "2020-08-30T19:53:41.654883",
     "exception": false,
     "start_time": "2020-08-30T19:53:41.625004",
     "status": "completed"
    },
    "tags": []
   },
   "outputs": [
    {
     "name": "stdout",
     "output_type": "stream",
     "text": [
      "['__doc__', '__file__', '__loader__', '__name__', '__package__', '__spec__', 'acos', 'acosh', 'asin', 'asinh', 'atan', 'atan2', 'atanh', 'ceil', 'copysign', 'cos', 'cosh', 'degrees', 'e', 'erf', 'erfc', 'exp', 'expm1', 'fabs', 'factorial', 'floor', 'fmod', 'frexp', 'fsum', 'gamma', 'gcd', 'hypot', 'inf', 'isclose', 'isfinite', 'isinf', 'isnan', 'ldexp', 'lgamma', 'log', 'log10', 'log1p', 'log2', 'modf', 'nan', 'pi', 'pow', 'radians', 'remainder', 'sin', 'sinh', 'sqrt', 'tan', 'tanh', 'tau', 'trunc']\n"
     ]
    }
   ],
   "source": [
    "import math\n",
    "print(dir(math))"
   ]
  },
  {
   "cell_type": "markdown",
   "execution_count": null,
   "metadata": {
    "papermill": {
     "duration": 0.020475,
     "end_time": "2020-08-30T19:53:41.696387",
     "exception": false,
     "start_time": "2020-08-30T19:53:41.675912",
     "status": "completed"
    },
    "tags": []
   },
   "source": [
    "# Variable Types (Basic)"
   ]
  },
  {
   "cell_type": "code",
   "execution_count": 9,
   "metadata": {
    "execution": {
     "iopub.execute_input": "2020-08-30T19:53:41.744871Z",
     "iopub.status.busy": "2020-08-30T19:53:41.743805Z",
     "iopub.status.idle": "2020-08-30T19:53:41.747641Z",
     "shell.execute_reply": "2020-08-30T19:53:41.746897Z"
    },
    "papermill": {
     "duration": 0.030144,
     "end_time": "2020-08-30T19:53:41.747765",
     "exception": false,
     "start_time": "2020-08-30T19:53:41.717621",
     "status": "completed"
    },
    "tags": []
   },
   "outputs": [],
   "source": [
    "# variable assignment\n",
    "var_str = \"some random string.\"\n",
    "var_int = 123\n",
    "var_float = 12.345\n",
    "var_bool = True\n",
    "var_complex = 2 + 3j"
   ]
  },
  {
   "cell_type": "code",
   "execution_count": 10,
   "metadata": {
    "execution": {
     "iopub.execute_input": "2020-08-30T19:53:41.796063Z",
     "iopub.status.busy": "2020-08-30T19:53:41.795214Z",
     "iopub.status.idle": "2020-08-30T19:53:41.800069Z",
     "shell.execute_reply": "2020-08-30T19:53:41.799424Z"
    },
    "papermill": {
     "duration": 0.031379,
     "end_time": "2020-08-30T19:53:41.800193",
     "exception": false,
     "start_time": "2020-08-30T19:53:41.768814",
     "status": "completed"
    },
    "tags": []
   },
   "outputs": [
    {
     "name": "stdout",
     "output_type": "stream",
     "text": [
      "<class 'str'> <class 'int'> <class 'float'> <class 'bool'> <class 'complex'>\n"
     ]
    }
   ],
   "source": [
    "# Finding type of variables in python\n",
    "print(\n",
    "    type(var_str),\n",
    "    type(var_int),\n",
    "    type(var_float),\n",
    "    type(var_bool),\n",
    "    type(var_complex)\n",
    "     )"
   ]
  },
  {
   "cell_type": "markdown",
   "execution_count": null,
   "metadata": {
    "papermill": {
     "duration": 0.020586,
     "end_time": "2020-08-30T19:53:41.841711",
     "exception": false,
     "start_time": "2020-08-30T19:53:41.821125",
     "status": "completed"
    },
    "tags": []
   },
   "source": [
    "### None Type\n",
    "* The None type is pythons way of telling a null / empty value\n",
    "* Functions which do not return a value essentially return None\n"
   ]
  },
  {
   "cell_type": "code",
   "execution_count": 11,
   "metadata": {
    "execution": {
     "iopub.execute_input": "2020-08-30T19:53:41.890653Z",
     "iopub.status.busy": "2020-08-30T19:53:41.889434Z",
     "iopub.status.idle": "2020-08-30T19:53:41.895385Z",
     "shell.execute_reply": "2020-08-30T19:53:41.894778Z"
    },
    "papermill": {
     "duration": 0.032906,
     "end_time": "2020-08-30T19:53:41.895519",
     "exception": false,
     "start_time": "2020-08-30T19:53:41.862613",
     "status": "completed"
    },
    "tags": []
   },
   "outputs": [
    {
     "name": "stdout",
     "output_type": "stream",
     "text": [
      "\n",
      "None\n"
     ]
    },
    {
     "data": {
      "text/plain": [
       "True"
      ]
     },
     "execution_count": 11,
     "metadata": {},
     "output_type": "execute_result"
    }
   ],
   "source": [
    "a = print('')\n",
    "print(a)\n",
    "a == None"
   ]
  },
  {
   "cell_type": "code",
   "execution_count": 12,
   "metadata": {
    "execution": {
     "iopub.execute_input": "2020-08-30T19:53:41.945485Z",
     "iopub.status.busy": "2020-08-30T19:53:41.944526Z",
     "iopub.status.idle": "2020-08-30T19:53:41.948719Z",
     "shell.execute_reply": "2020-08-30T19:53:41.949277Z"
    },
    "papermill": {
     "duration": 0.032351,
     "end_time": "2020-08-30T19:53:41.949434",
     "exception": false,
     "start_time": "2020-08-30T19:53:41.917083",
     "status": "completed"
    },
    "tags": []
   },
   "outputs": [
    {
     "data": {
      "text/plain": [
       "NoneType"
      ]
     },
     "execution_count": 12,
     "metadata": {},
     "output_type": "execute_result"
    }
   ],
   "source": [
    "type(None)"
   ]
  },
  {
   "cell_type": "markdown",
   "execution_count": null,
   "metadata": {
    "papermill": {
     "duration": 0.021337,
     "end_time": "2020-08-30T19:53:41.992186",
     "exception": false,
     "start_time": "2020-08-30T19:53:41.970849",
     "status": "completed"
    },
    "tags": []
   },
   "source": [
    "# Operations (Maths)"
   ]
  },
  {
   "cell_type": "code",
   "execution_count": 13,
   "metadata": {
    "execution": {
     "iopub.execute_input": "2020-08-30T19:53:42.044632Z",
     "iopub.status.busy": "2020-08-30T19:53:42.043457Z",
     "iopub.status.idle": "2020-08-30T19:53:42.049051Z",
     "shell.execute_reply": "2020-08-30T19:53:42.049827Z"
    },
    "papermill": {
     "duration": 0.036396,
     "end_time": "2020-08-30T19:53:42.050054",
     "exception": false,
     "start_time": "2020-08-30T19:53:42.013658",
     "status": "completed"
    },
    "tags": []
   },
   "outputs": [
    {
     "name": "stdout",
     "output_type": "stream",
     "text": [
      "addition 15\n",
      "subtraction 3\n",
      "multiplication 21\n",
      "division 2.4\n",
      "Quotient : True Division 2\n",
      "Remainder : Modulus 2\n",
      "exponentation 243\n",
      "negation -5\n"
     ]
    }
   ],
   "source": [
    "# Basic Operations in python\n",
    "print(\"addition\",12+3)\n",
    "print(\"subtraction\",4-1)\n",
    "print(\"multiplication\",3*7)\n",
    "print(\"division\",12/5)\n",
    "print(\"Quotient : True Division\", 12 // 5)\n",
    "print(\"Remainder : Modulus\", 12 % 5)\n",
    "print(\"exponentation\", 3**5)\n",
    "print(\"negation\", -5)"
   ]
  },
  {
   "cell_type": "markdown",
   "execution_count": null,
   "metadata": {
    "papermill": {
     "duration": 0.021399,
     "end_time": "2020-08-30T19:53:42.093478",
     "exception": false,
     "start_time": "2020-08-30T19:53:42.072079",
     "status": "completed"
    },
    "tags": []
   },
   "source": [
    "# Functions"
   ]
  },
  {
   "cell_type": "code",
   "execution_count": 14,
   "metadata": {
    "execution": {
     "iopub.execute_input": "2020-08-30T19:53:42.143760Z",
     "iopub.status.busy": "2020-08-30T19:53:42.142875Z",
     "iopub.status.idle": "2020-08-30T19:53:42.147089Z",
     "shell.execute_reply": "2020-08-30T19:53:42.147619Z"
    },
    "papermill": {
     "duration": 0.03265,
     "end_time": "2020-08-30T19:53:42.147777",
     "exception": false,
     "start_time": "2020-08-30T19:53:42.115127",
     "status": "completed"
    },
    "tags": []
   },
   "outputs": [
    {
     "data": {
      "text/plain": [
       "2.8"
      ]
     },
     "execution_count": 14,
     "metadata": {},
     "output_type": "execute_result"
    }
   ],
   "source": [
    "# Functions\n",
    "def func_name(param_1,param_2, param_3):\n",
    "    return ( param_1 + param_2 ) / param_3;\n",
    "\n",
    "func_name(8,6,5)"
   ]
  },
  {
   "cell_type": "markdown",
   "execution_count": null,
   "metadata": {
    "papermill": {
     "duration": 0.02159,
     "end_time": "2020-08-30T19:53:42.191344",
     "exception": false,
     "start_time": "2020-08-30T19:53:42.169754",
     "status": "completed"
    },
    "tags": []
   },
   "source": [
    "### Docstrings : \n",
    "Docstrings or documentation strings - are triple-quoted strings (which may span multiple lines) that comes immediately after the header of a function. When we call help() on a function, it shows the docstring."
   ]
  },
  {
   "cell_type": "code",
   "execution_count": 15,
   "metadata": {
    "execution": {
     "iopub.execute_input": "2020-08-30T19:53:42.242191Z",
     "iopub.status.busy": "2020-08-30T19:53:42.241399Z",
     "iopub.status.idle": "2020-08-30T19:53:42.244424Z",
     "shell.execute_reply": "2020-08-30T19:53:42.245144Z"
    },
    "papermill": {
     "duration": 0.032139,
     "end_time": "2020-08-30T19:53:42.245303",
     "exception": false,
     "start_time": "2020-08-30T19:53:42.213164",
     "status": "completed"
    },
    "tags": []
   },
   "outputs": [
    {
     "name": "stdout",
     "output_type": "stream",
     "text": [
      "3.14\n",
      "3.142857142857143\n"
     ]
    }
   ],
   "source": [
    "def area_of_circle(rad, pi = 3.14):\n",
    "    \"\"\"\n",
    "    Calculates the area of a circle given the radius.\n",
    "    pi is optional parameter, if not provided pi is taken as 3.14.\n",
    "    \n",
    "    >>> area_of_circle(1)\n",
    "    3.14\n",
    "    \n",
    "    >>> area_of_circle(1, 22/7)\n",
    "    3.142857142857143\n",
    "    \"\"\"\n",
    "    return pi * (rad ** 2);\n",
    "\n",
    "print(area_of_circle(1))\n",
    "print(area_of_circle(1, 22/7))"
   ]
  },
  {
   "cell_type": "code",
   "execution_count": 16,
   "metadata": {
    "execution": {
     "iopub.execute_input": "2020-08-30T19:53:42.294835Z",
     "iopub.status.busy": "2020-08-30T19:53:42.294109Z",
     "iopub.status.idle": "2020-08-30T19:53:42.298164Z",
     "shell.execute_reply": "2020-08-30T19:53:42.297209Z"
    },
    "papermill": {
     "duration": 0.031096,
     "end_time": "2020-08-30T19:53:42.298325",
     "exception": false,
     "start_time": "2020-08-30T19:53:42.267229",
     "status": "completed"
    },
    "tags": []
   },
   "outputs": [
    {
     "name": "stdout",
     "output_type": "stream",
     "text": [
      "Help on function area_of_circle in module __main__:\n",
      "\n",
      "area_of_circle(rad, pi=3.14)\n",
      "    Calculates the area of a circle given the radius.\n",
      "    pi is optional parameter, if not provided pi is taken as 3.14.\n",
      "    \n",
      "    >>> area_of_circle(1)\n",
      "    3.14\n",
      "    \n",
      "    >>> area_of_circle(1, 22/7)\n",
      "    3.142857142857143\n",
      "\n"
     ]
    }
   ],
   "source": [
    "help(area_of_circle)"
   ]
  },
  {
   "cell_type": "markdown",
   "execution_count": null,
   "metadata": {
    "papermill": {
     "duration": 0.021656,
     "end_time": "2020-08-30T19:53:42.342888",
     "exception": false,
     "start_time": "2020-08-30T19:53:42.321232",
     "status": "completed"
    },
    "tags": []
   },
   "source": [
    "# Functions applied to Functions\n",
    "\n",
    "Functions that operate on other functions are called \"Higher order functions.\""
   ]
  },
  {
   "cell_type": "code",
   "execution_count": 17,
   "metadata": {
    "execution": {
     "iopub.execute_input": "2020-08-30T19:53:42.396527Z",
     "iopub.status.busy": "2020-08-30T19:53:42.395713Z",
     "iopub.status.idle": "2020-08-30T19:53:42.399640Z",
     "shell.execute_reply": "2020-08-30T19:53:42.398982Z"
    },
    "papermill": {
     "duration": 0.034105,
     "end_time": "2020-08-30T19:53:42.399764",
     "exception": false,
     "start_time": "2020-08-30T19:53:42.365659",
     "status": "completed"
    },
    "tags": []
   },
   "outputs": [
    {
     "name": "stdout",
     "output_type": "stream",
     "text": [
      "5\n",
      "25\n"
     ]
    }
   ],
   "source": [
    "def mult_by_five(x):\n",
    "    return 5 * x\n",
    "\n",
    "def call(fn, arg):\n",
    "    \"\"\"Call fn on arg\"\"\"\n",
    "    return fn(arg)\n",
    "\n",
    "def squared_call(fn, arg):\n",
    "    \"\"\"Call fn on the result of calling fn on arg\"\"\"\n",
    "    return fn(fn(arg))\n",
    "\n",
    "print(\n",
    "    call(mult_by_five, 1),\n",
    "    squared_call(mult_by_five, 1), \n",
    "    sep='\\n', # '\\n' is the newline character - it starts a new line\n",
    ")"
   ]
  },
  {
   "cell_type": "code",
   "execution_count": 18,
   "metadata": {
    "execution": {
     "iopub.execute_input": "2020-08-30T19:53:42.451686Z",
     "iopub.status.busy": "2020-08-30T19:53:42.450746Z",
     "iopub.status.idle": "2020-08-30T19:53:42.455192Z",
     "shell.execute_reply": "2020-08-30T19:53:42.454460Z"
    },
    "papermill": {
     "duration": 0.033162,
     "end_time": "2020-08-30T19:53:42.455311",
     "exception": false,
     "start_time": "2020-08-30T19:53:42.422149",
     "status": "completed"
    },
    "tags": []
   },
   "outputs": [
    {
     "name": "stdout",
     "output_type": "stream",
     "text": [
      "Which number is biggest?\n",
      "100\n",
      "Which number is the biggest modulo 5?\n",
      "14\n"
     ]
    }
   ],
   "source": [
    "def mod_5(x):\n",
    "    \"\"\"Return the remainder of x after dividing by 5\"\"\"\n",
    "    return x % 5\n",
    "\n",
    "print(\n",
    "    'Which number is biggest?',\n",
    "    max(100, 51, 14),\n",
    "    'Which number is the biggest modulo 5?',\n",
    "    max(100, 51, 14, key=mod_5),\n",
    "    sep='\\n',\n",
    ")"
   ]
  },
  {
   "cell_type": "markdown",
   "execution_count": null,
   "metadata": {
    "papermill": {
     "duration": 0.023626,
     "end_time": "2020-08-30T19:53:42.501459",
     "exception": false,
     "start_time": "2020-08-30T19:53:42.477833",
     "status": "completed"
    },
    "tags": []
   },
   "source": [
    "# Operations (Comparison)"
   ]
  },
  {
   "cell_type": "code",
   "execution_count": 19,
   "metadata": {
    "execution": {
     "iopub.execute_input": "2020-08-30T19:53:42.553533Z",
     "iopub.status.busy": "2020-08-30T19:53:42.552788Z",
     "iopub.status.idle": "2020-08-30T19:53:42.557147Z",
     "shell.execute_reply": "2020-08-30T19:53:42.556318Z"
    },
    "papermill": {
     "duration": 0.03333,
     "end_time": "2020-08-30T19:53:42.557302",
     "exception": false,
     "start_time": "2020-08-30T19:53:42.523972",
     "status": "completed"
    },
    "tags": []
   },
   "outputs": [
    {
     "name": "stdout",
     "output_type": "stream",
     "text": [
      "True False False False False True\n"
     ]
    }
   ],
   "source": [
    "a = 5\n",
    "b = 9\n",
    "print(\n",
    "    a == a, #True\n",
    "    a != a, #False\n",
    "    a > b,  #False\n",
    "    a >= b, #False\n",
    "    a < a,  #False\n",
    "    a <= a  #True\n",
    ")"
   ]
  },
  {
   "cell_type": "code",
   "execution_count": 20,
   "metadata": {
    "execution": {
     "iopub.execute_input": "2020-08-30T19:53:42.609218Z",
     "iopub.status.busy": "2020-08-30T19:53:42.608228Z",
     "iopub.status.idle": "2020-08-30T19:53:42.611751Z",
     "shell.execute_reply": "2020-08-30T19:53:42.612370Z"
    },
    "papermill": {
     "duration": 0.031949,
     "end_time": "2020-08-30T19:53:42.612525",
     "exception": false,
     "start_time": "2020-08-30T19:53:42.580576",
     "status": "completed"
    },
    "tags": []
   },
   "outputs": [
    {
     "name": "stdout",
     "output_type": "stream",
     "text": [
      "True False\n"
     ]
    }
   ],
   "source": [
    "print(3.0 == 3, '3' == 3)"
   ]
  },
  {
   "cell_type": "markdown",
   "execution_count": null,
   "metadata": {
    "papermill": {
     "duration": 0.022294,
     "end_time": "2020-08-30T19:53:42.657419",
     "exception": false,
     "start_time": "2020-08-30T19:53:42.635125",
     "status": "completed"
    },
    "tags": []
   },
   "source": [
    "### and , or , not"
   ]
  },
  {
   "cell_type": "code",
   "execution_count": 21,
   "metadata": {
    "execution": {
     "iopub.execute_input": "2020-08-30T19:53:42.710901Z",
     "iopub.status.busy": "2020-08-30T19:53:42.709857Z",
     "iopub.status.idle": "2020-08-30T19:53:42.713441Z",
     "shell.execute_reply": "2020-08-30T19:53:42.714011Z"
    },
    "papermill": {
     "duration": 0.03424,
     "end_time": "2020-08-30T19:53:42.714191",
     "exception": false,
     "start_time": "2020-08-30T19:53:42.679951",
     "status": "completed"
    },
    "tags": []
   },
   "outputs": [
    {
     "name": "stdout",
     "output_type": "stream",
     "text": [
      "False True True False\n"
     ]
    }
   ],
   "source": [
    "def xor_fnc(a,b):\n",
    "    return (a and not b) or (not a and b) # Combining and , or , not\n",
    "\n",
    "print(\n",
    "xor_fnc(True,True),\n",
    "xor_fnc(True,False),\n",
    "xor_fnc(False,True),\n",
    "xor_fnc(False,False),\n",
    ")"
   ]
  },
  {
   "cell_type": "markdown",
   "execution_count": null,
   "metadata": {
    "papermill": {
     "duration": 0.022998,
     "end_time": "2020-08-30T19:53:42.759980",
     "exception": false,
     "start_time": "2020-08-30T19:53:42.736982",
     "status": "completed"
    },
    "tags": []
   },
   "source": [
    "# Conditional Statements"
   ]
  },
  {
   "cell_type": "code",
   "execution_count": 22,
   "metadata": {
    "execution": {
     "iopub.execute_input": "2020-08-30T19:53:42.813151Z",
     "iopub.status.busy": "2020-08-30T19:53:42.812079Z",
     "iopub.status.idle": "2020-08-30T19:53:42.816689Z",
     "shell.execute_reply": "2020-08-30T19:53:42.815733Z"
    },
    "papermill": {
     "duration": 0.033973,
     "end_time": "2020-08-30T19:53:42.816851",
     "exception": false,
     "start_time": "2020-08-30T19:53:42.782878",
     "status": "completed"
    },
    "tags": []
   },
   "outputs": [
    {
     "name": "stdout",
     "output_type": "stream",
     "text": [
      "A Grade\n"
     ]
    }
   ],
   "source": [
    "score = 65\n",
    "if score > 80:\n",
    "    print('Distinction')\n",
    "elif score > 60:\n",
    "    print('A Grade')\n",
    "elif score > 40:\n",
    "    print('B Grade')\n",
    "else:\n",
    "    print('Fail')"
   ]
  },
  {
   "cell_type": "markdown",
   "execution_count": null,
   "metadata": {
    "papermill": {
     "duration": 0.022505,
     "end_time": "2020-08-30T19:53:42.913309",
     "exception": false,
     "start_time": "2020-08-30T19:53:42.890804",
     "status": "completed"
    },
    "tags": []
   },
   "source": [
    "# Variable Types (Lists)"
   ]
  },
  {
   "cell_type": "markdown",
   "execution_count": null,
   "metadata": {
    "papermill": {
     "duration": 0.036205,
     "end_time": "2020-08-30T19:53:42.973896",
     "exception": false,
     "start_time": "2020-08-30T19:53:42.937691",
     "status": "completed"
    },
    "tags": []
   },
   "source": [
    "### initialize a list"
   ]
  },
  {
   "cell_type": "code",
   "execution_count": 23,
   "metadata": {
    "execution": {
     "iopub.execute_input": "2020-08-30T19:53:43.046518Z",
     "iopub.status.busy": "2020-08-30T19:53:43.045358Z",
     "iopub.status.idle": "2020-08-30T19:53:43.050845Z",
     "shell.execute_reply": "2020-08-30T19:53:43.049696Z"
    },
    "papermill": {
     "duration": 0.047181,
     "end_time": "2020-08-30T19:53:43.051061",
     "exception": false,
     "start_time": "2020-08-30T19:53:43.003880",
     "status": "completed"
    },
    "tags": []
   },
   "outputs": [],
   "source": [
    "primes = [2, 3, 5, 7]\n",
    "\n",
    "planets = ['Mercury', 'Venus', 'Earth', 'Mars', 'Jupiter', 'Saturn', 'Uranus', 'Neptune']\n",
    "\n",
    "hands = [\n",
    "    ['J', 'Q', 'K'],\n",
    "    ['2', '2', '2'],\n",
    "    ['6', 'A', 'K'], # (Comma after the last element is optional)\n",
    "]\n",
    "\n",
    "my_favourite_things = [32, 'raindrops on roses', help]\n"
   ]
  },
  {
   "cell_type": "code",
   "execution_count": 24,
   "metadata": {
    "execution": {
     "iopub.execute_input": "2020-08-30T19:53:43.110691Z",
     "iopub.status.busy": "2020-08-30T19:53:43.109766Z",
     "iopub.status.idle": "2020-08-30T19:53:43.118412Z",
     "shell.execute_reply": "2020-08-30T19:53:43.117520Z"
    },
    "papermill": {
     "duration": 0.038286,
     "end_time": "2020-08-30T19:53:43.118595",
     "exception": false,
     "start_time": "2020-08-30T19:53:43.080309",
     "status": "completed"
    },
    "tags": []
   },
   "outputs": [
    {
     "data": {
      "text/plain": [
       "list"
      ]
     },
     "execution_count": 24,
     "metadata": {},
     "output_type": "execute_result"
    }
   ],
   "source": [
    "type(primes)"
   ]
  },
  {
   "cell_type": "code",
   "execution_count": 25,
   "metadata": {
    "execution": {
     "iopub.execute_input": "2020-08-30T19:53:43.173300Z",
     "iopub.status.busy": "2020-08-30T19:53:43.172429Z",
     "iopub.status.idle": "2020-08-30T19:53:43.177091Z",
     "shell.execute_reply": "2020-08-30T19:53:43.176276Z"
    },
    "papermill": {
     "duration": 0.033784,
     "end_time": "2020-08-30T19:53:43.177223",
     "exception": false,
     "start_time": "2020-08-30T19:53:43.143439",
     "status": "completed"
    },
    "tags": []
   },
   "outputs": [
    {
     "data": {
      "text/plain": [
       "list"
      ]
     },
     "execution_count": 25,
     "metadata": {},
     "output_type": "execute_result"
    }
   ],
   "source": [
    "type(hands)"
   ]
  },
  {
   "cell_type": "markdown",
   "execution_count": null,
   "metadata": {
    "papermill": {
     "duration": 0.022994,
     "end_time": "2020-08-30T19:53:43.223893",
     "exception": false,
     "start_time": "2020-08-30T19:53:43.200899",
     "status": "completed"
    },
    "tags": []
   },
   "source": [
    "### Indexing"
   ]
  },
  {
   "cell_type": "code",
   "execution_count": 26,
   "metadata": {
    "execution": {
     "iopub.execute_input": "2020-08-30T19:53:43.277699Z",
     "iopub.status.busy": "2020-08-30T19:53:43.276882Z",
     "iopub.status.idle": "2020-08-30T19:53:43.280679Z",
     "shell.execute_reply": "2020-08-30T19:53:43.281236Z"
    },
    "papermill": {
     "duration": 0.03367,
     "end_time": "2020-08-30T19:53:43.281397",
     "exception": false,
     "start_time": "2020-08-30T19:53:43.247727",
     "status": "completed"
    },
    "tags": []
   },
   "outputs": [
    {
     "data": {
      "text/plain": [
       "'Mercury'"
      ]
     },
     "execution_count": 26,
     "metadata": {},
     "output_type": "execute_result"
    }
   ],
   "source": [
    "planets[0] # List index starts from zero"
   ]
  },
  {
   "cell_type": "code",
   "execution_count": 27,
   "metadata": {
    "execution": {
     "iopub.execute_input": "2020-08-30T19:53:43.336103Z",
     "iopub.status.busy": "2020-08-30T19:53:43.335058Z",
     "iopub.status.idle": "2020-08-30T19:53:43.339573Z",
     "shell.execute_reply": "2020-08-30T19:53:43.340169Z"
    },
    "papermill": {
     "duration": 0.034643,
     "end_time": "2020-08-30T19:53:43.340352",
     "exception": false,
     "start_time": "2020-08-30T19:53:43.305709",
     "status": "completed"
    },
    "tags": []
   },
   "outputs": [
    {
     "data": {
      "text/plain": [
       "'Neptune'"
      ]
     },
     "execution_count": 27,
     "metadata": {},
     "output_type": "execute_result"
    }
   ],
   "source": [
    "planets[-1] # Negative number counts from last"
   ]
  },
  {
   "cell_type": "markdown",
   "execution_count": null,
   "metadata": {
    "papermill": {
     "duration": 0.023998,
     "end_time": "2020-08-30T19:53:43.389463",
     "exception": false,
     "start_time": "2020-08-30T19:53:43.365465",
     "status": "completed"
    },
    "tags": []
   },
   "source": [
    "### Slicing"
   ]
  },
  {
   "cell_type": "code",
   "execution_count": 28,
   "metadata": {
    "execution": {
     "iopub.execute_input": "2020-08-30T19:53:43.451496Z",
     "iopub.status.busy": "2020-08-30T19:53:43.450553Z",
     "iopub.status.idle": "2020-08-30T19:53:43.455375Z",
     "shell.execute_reply": "2020-08-30T19:53:43.454617Z"
    },
    "papermill": {
     "duration": 0.041742,
     "end_time": "2020-08-30T19:53:43.455503",
     "exception": false,
     "start_time": "2020-08-30T19:53:43.413761",
     "status": "completed"
    },
    "tags": []
   },
   "outputs": [
    {
     "data": {
      "text/plain": [
       "['Mercury', 'Venus']"
      ]
     },
     "execution_count": 28,
     "metadata": {},
     "output_type": "execute_result"
    }
   ],
   "source": [
    "planets[:2] # select n elements (start index inclusive, end index not inclusive)"
   ]
  },
  {
   "cell_type": "code",
   "execution_count": 29,
   "metadata": {
    "execution": {
     "iopub.execute_input": "2020-08-30T19:53:43.510462Z",
     "iopub.status.busy": "2020-08-30T19:53:43.509332Z",
     "iopub.status.idle": "2020-08-30T19:53:43.514506Z",
     "shell.execute_reply": "2020-08-30T19:53:43.513684Z"
    },
    "papermill": {
     "duration": 0.034867,
     "end_time": "2020-08-30T19:53:43.514645",
     "exception": false,
     "start_time": "2020-08-30T19:53:43.479778",
     "status": "completed"
    },
    "tags": []
   },
   "outputs": [
    {
     "data": {
      "text/plain": [
       "['Mercury', 'Venus', 'Earth', 'Mars', 'Jupiter', 'Saturn', 'Uranus']"
      ]
     },
     "execution_count": 29,
     "metadata": {},
     "output_type": "execute_result"
    }
   ],
   "source": [
    "planets[:-1]"
   ]
  },
  {
   "cell_type": "code",
   "execution_count": 30,
   "metadata": {
    "execution": {
     "iopub.execute_input": "2020-08-30T19:53:43.570833Z",
     "iopub.status.busy": "2020-08-30T19:53:43.569795Z",
     "iopub.status.idle": "2020-08-30T19:53:43.573437Z",
     "shell.execute_reply": "2020-08-30T19:53:43.574233Z"
    },
    "papermill": {
     "duration": 0.034862,
     "end_time": "2020-08-30T19:53:43.574431",
     "exception": false,
     "start_time": "2020-08-30T19:53:43.539569",
     "status": "completed"
    },
    "tags": []
   },
   "outputs": [
    {
     "name": "stdout",
     "output_type": "stream",
     "text": [
      "[] []\n"
     ]
    }
   ],
   "source": [
    "print(\n",
    "    planets[3:1],\n",
    "    planets[-1:-3]\n",
    ")"
   ]
  },
  {
   "cell_type": "markdown",
   "execution_count": null,
   "metadata": {
    "papermill": {
     "duration": 0.024399,
     "end_time": "2020-08-30T19:53:43.624817",
     "exception": false,
     "start_time": "2020-08-30T19:53:43.600418",
     "status": "completed"
    },
    "tags": []
   },
   "source": [
    "### Modifying Lists"
   ]
  },
  {
   "cell_type": "code",
   "execution_count": 31,
   "metadata": {
    "execution": {
     "iopub.execute_input": "2020-08-30T19:53:43.682779Z",
     "iopub.status.busy": "2020-08-30T19:53:43.681778Z",
     "iopub.status.idle": "2020-08-30T19:53:43.686245Z",
     "shell.execute_reply": "2020-08-30T19:53:43.685610Z"
    },
    "papermill": {
     "duration": 0.036773,
     "end_time": "2020-08-30T19:53:43.686408",
     "exception": false,
     "start_time": "2020-08-30T19:53:43.649635",
     "status": "completed"
    },
    "tags": []
   },
   "outputs": [
    {
     "data": {
      "text/plain": [
       "['Mercury',\n",
       " 'Venus',\n",
       " 'Earth',\n",
       " 'Malacandra',\n",
       " 'Jupiter',\n",
       " 'Saturn',\n",
       " 'Uranus',\n",
       " 'Neptune']"
      ]
     },
     "execution_count": 31,
     "metadata": {},
     "output_type": "execute_result"
    }
   ],
   "source": [
    "planets[3] = 'Malacandra'\n",
    "planets"
   ]
  },
  {
   "cell_type": "code",
   "execution_count": 32,
   "metadata": {
    "execution": {
     "iopub.execute_input": "2020-08-30T19:53:43.743223Z",
     "iopub.status.busy": "2020-08-30T19:53:43.742256Z",
     "iopub.status.idle": "2020-08-30T19:53:43.747075Z",
     "shell.execute_reply": "2020-08-30T19:53:43.746450Z"
    },
    "papermill": {
     "duration": 0.035616,
     "end_time": "2020-08-30T19:53:43.747198",
     "exception": false,
     "start_time": "2020-08-30T19:53:43.711582",
     "status": "completed"
    },
    "tags": []
   },
   "outputs": [
    {
     "data": {
      "text/plain": [
       "['Mur', 'Vee', 'Ur', 'Malacandra', 'Jupiter', 'Saturn', 'Uranus', 'Neptune']"
      ]
     },
     "execution_count": 32,
     "metadata": {},
     "output_type": "execute_result"
    }
   ],
   "source": [
    "planets[:3] = ['Mur', 'Vee', 'Ur']\n",
    "planets"
   ]
  },
  {
   "cell_type": "code",
   "execution_count": 33,
   "metadata": {
    "execution": {
     "iopub.execute_input": "2020-08-30T19:53:43.805428Z",
     "iopub.status.busy": "2020-08-30T19:53:43.804355Z",
     "iopub.status.idle": "2020-08-30T19:53:43.808473Z",
     "shell.execute_reply": "2020-08-30T19:53:43.807823Z"
    },
    "papermill": {
     "duration": 0.035792,
     "end_time": "2020-08-30T19:53:43.808604",
     "exception": false,
     "start_time": "2020-08-30T19:53:43.772812",
     "status": "completed"
    },
    "tags": []
   },
   "outputs": [
    {
     "data": {
      "text/plain": [
       "['Mercury', 'Venus', 'Earth', 'Mars', 'Jupiter', 'Saturn', 'Uranus', 'Neptune']"
      ]
     },
     "execution_count": 33,
     "metadata": {},
     "output_type": "execute_result"
    }
   ],
   "source": [
    "planets[:4] = ['Mercury', 'Venus', 'Earth', 'Mars',]\n",
    "planets"
   ]
  },
  {
   "cell_type": "markdown",
   "execution_count": null,
   "metadata": {
    "papermill": {
     "duration": 0.024836,
     "end_time": "2020-08-30T19:53:43.858503",
     "exception": false,
     "start_time": "2020-08-30T19:53:43.833667",
     "status": "completed"
    },
    "tags": []
   },
   "source": [
    "# List Functions"
   ]
  },
  {
   "cell_type": "code",
   "execution_count": 34,
   "metadata": {
    "execution": {
     "iopub.execute_input": "2020-08-30T19:53:43.916352Z",
     "iopub.status.busy": "2020-08-30T19:53:43.915224Z",
     "iopub.status.idle": "2020-08-30T19:53:43.920669Z",
     "shell.execute_reply": "2020-08-30T19:53:43.919835Z"
    },
    "papermill": {
     "duration": 0.037093,
     "end_time": "2020-08-30T19:53:43.920803",
     "exception": false,
     "start_time": "2020-08-30T19:53:43.883710",
     "status": "completed"
    },
    "tags": []
   },
   "outputs": [
    {
     "name": "stdout",
     "output_type": "stream",
     "text": [
      "8\n",
      "['Earth', 'Jupiter', 'Mars', 'Mercury', 'Neptune', 'Saturn', 'Uranus', 'Venus']\n",
      "17\n",
      "7\n"
     ]
    }
   ],
   "source": [
    "print(\n",
    "    len(planets),\n",
    "    sorted(planets),\n",
    "    sum(primes),\n",
    "    max(primes),\n",
    "    sep = '\\n'\n",
    ")"
   ]
  },
  {
   "cell_type": "code",
   "execution_count": 35,
   "metadata": {
    "execution": {
     "iopub.execute_input": "2020-08-30T19:53:43.978864Z",
     "iopub.status.busy": "2020-08-30T19:53:43.977869Z",
     "iopub.status.idle": "2020-08-30T19:53:43.982326Z",
     "shell.execute_reply": "2020-08-30T19:53:43.982937Z"
    },
    "papermill": {
     "duration": 0.03731,
     "end_time": "2020-08-30T19:53:43.983138",
     "exception": false,
     "start_time": "2020-08-30T19:53:43.945828",
     "status": "completed"
    },
    "tags": []
   },
   "outputs": [
    {
     "data": {
      "text/plain": [
       "['Mercury',\n",
       " 'Venus',\n",
       " 'Earth',\n",
       " 'Mars',\n",
       " 'Jupiter',\n",
       " 'Saturn',\n",
       " 'Uranus',\n",
       " 'Neptune',\n",
       " 'Pluto']"
      ]
     },
     "execution_count": 35,
     "metadata": {},
     "output_type": "execute_result"
    }
   ],
   "source": [
    "planets = ['Mercury', 'Venus', 'Earth', 'Mars', 'Jupiter', 'Saturn', 'Uranus', 'Neptune']\n",
    "planets.append('Pluto')\n",
    "planets"
   ]
  },
  {
   "cell_type": "code",
   "execution_count": 36,
   "metadata": {
    "execution": {
     "iopub.execute_input": "2020-08-30T19:53:44.041151Z",
     "iopub.status.busy": "2020-08-30T19:53:44.040302Z",
     "iopub.status.idle": "2020-08-30T19:53:44.044909Z",
     "shell.execute_reply": "2020-08-30T19:53:44.044141Z"
    },
    "papermill": {
     "duration": 0.035646,
     "end_time": "2020-08-30T19:53:44.045058",
     "exception": false,
     "start_time": "2020-08-30T19:53:44.009412",
     "status": "completed"
    },
    "tags": []
   },
   "outputs": [
    {
     "data": {
      "text/plain": [
       "'Pluto'"
      ]
     },
     "execution_count": 36,
     "metadata": {},
     "output_type": "execute_result"
    }
   ],
   "source": [
    "planets.pop()"
   ]
  },
  {
   "cell_type": "code",
   "execution_count": 37,
   "metadata": {
    "execution": {
     "iopub.execute_input": "2020-08-30T19:53:44.102678Z",
     "iopub.status.busy": "2020-08-30T19:53:44.101683Z",
     "iopub.status.idle": "2020-08-30T19:53:44.106229Z",
     "shell.execute_reply": "2020-08-30T19:53:44.106819Z"
    },
    "papermill": {
     "duration": 0.036124,
     "end_time": "2020-08-30T19:53:44.106984",
     "exception": false,
     "start_time": "2020-08-30T19:53:44.070860",
     "status": "completed"
    },
    "tags": []
   },
   "outputs": [
    {
     "data": {
      "text/plain": [
       "1"
      ]
     },
     "execution_count": 37,
     "metadata": {},
     "output_type": "execute_result"
    }
   ],
   "source": [
    "planets.index('Venus')"
   ]
  },
  {
   "cell_type": "code",
   "execution_count": 38,
   "metadata": {
    "execution": {
     "iopub.execute_input": "2020-08-30T19:53:44.164689Z",
     "iopub.status.busy": "2020-08-30T19:53:44.163575Z",
     "iopub.status.idle": "2020-08-30T19:53:44.168492Z",
     "shell.execute_reply": "2020-08-30T19:53:44.167773Z"
    },
    "papermill": {
     "duration": 0.035947,
     "end_time": "2020-08-30T19:53:44.168623",
     "exception": false,
     "start_time": "2020-08-30T19:53:44.132676",
     "status": "completed"
    },
    "tags": []
   },
   "outputs": [
    {
     "data": {
      "text/plain": [
       "True"
      ]
     },
     "execution_count": 38,
     "metadata": {},
     "output_type": "execute_result"
    }
   ],
   "source": [
    "planets.append('X360')\n",
    "\"Venus\" in planets"
   ]
  },
  {
   "cell_type": "markdown",
   "execution_count": null,
   "metadata": {
    "papermill": {
     "duration": 0.026001,
     "end_time": "2020-08-30T19:53:44.221039",
     "exception": false,
     "start_time": "2020-08-30T19:53:44.195038",
     "status": "completed"
    },
    "tags": []
   },
   "source": [
    "# Variable Types (Tuples)"
   ]
  },
  {
   "cell_type": "code",
   "execution_count": 39,
   "metadata": {
    "execution": {
     "iopub.execute_input": "2020-08-30T19:53:44.279308Z",
     "iopub.status.busy": "2020-08-30T19:53:44.278224Z",
     "iopub.status.idle": "2020-08-30T19:53:44.281811Z",
     "shell.execute_reply": "2020-08-30T19:53:44.281101Z"
    },
    "papermill": {
     "duration": 0.034675,
     "end_time": "2020-08-30T19:53:44.281933",
     "exception": false,
     "start_time": "2020-08-30T19:53:44.247258",
     "status": "completed"
    },
    "tags": []
   },
   "outputs": [],
   "source": [
    "a = (1,2,3)"
   ]
  },
  {
   "cell_type": "code",
   "execution_count": 40,
   "metadata": {
    "execution": {
     "iopub.execute_input": "2020-08-30T19:53:44.340258Z",
     "iopub.status.busy": "2020-08-30T19:53:44.339446Z",
     "iopub.status.idle": "2020-08-30T19:53:44.343775Z",
     "shell.execute_reply": "2020-08-30T19:53:44.343192Z"
    },
    "papermill": {
     "duration": 0.035494,
     "end_time": "2020-08-30T19:53:44.343910",
     "exception": false,
     "start_time": "2020-08-30T19:53:44.308416",
     "status": "completed"
    },
    "tags": []
   },
   "outputs": [
    {
     "data": {
      "text/plain": [
       "tuple"
      ]
     },
     "execution_count": 40,
     "metadata": {},
     "output_type": "execute_result"
    }
   ],
   "source": [
    "type(a)"
   ]
  },
  {
   "cell_type": "code",
   "execution_count": 41,
   "metadata": {
    "execution": {
     "iopub.execute_input": "2020-08-30T19:53:44.402595Z",
     "iopub.status.busy": "2020-08-30T19:53:44.401703Z",
     "iopub.status.idle": "2020-08-30T19:53:44.405400Z",
     "shell.execute_reply": "2020-08-30T19:53:44.404682Z"
    },
    "papermill": {
     "duration": 0.035324,
     "end_time": "2020-08-30T19:53:44.405521",
     "exception": false,
     "start_time": "2020-08-30T19:53:44.370197",
     "status": "completed"
    },
    "tags": []
   },
   "outputs": [
    {
     "name": "stdout",
     "output_type": "stream",
     "text": [
      "'tuple' object does not support item assignment\n"
     ]
    }
   ],
   "source": [
    "try: \n",
    "    a[0]=111\n",
    "    \n",
    "except TypeError as e:\n",
    "    print(e)"
   ]
  },
  {
   "cell_type": "markdown",
   "execution_count": null,
   "metadata": {
    "papermill": {
     "duration": 0.025703,
     "end_time": "2020-08-30T19:53:44.457355",
     "exception": false,
     "start_time": "2020-08-30T19:53:44.431652",
     "status": "completed"
    },
    "tags": []
   },
   "source": [
    "# Loops"
   ]
  },
  {
   "cell_type": "code",
   "execution_count": 42,
   "metadata": {
    "execution": {
     "iopub.execute_input": "2020-08-30T19:53:44.515346Z",
     "iopub.status.busy": "2020-08-30T19:53:44.514593Z",
     "iopub.status.idle": "2020-08-30T19:53:44.517538Z",
     "shell.execute_reply": "2020-08-30T19:53:44.518164Z"
    },
    "papermill": {
     "duration": 0.035141,
     "end_time": "2020-08-30T19:53:44.518315",
     "exception": false,
     "start_time": "2020-08-30T19:53:44.483174",
     "status": "completed"
    },
    "tags": []
   },
   "outputs": [
    {
     "name": "stdout",
     "output_type": "stream",
     "text": [
      "Mon Tue Wed "
     ]
    }
   ],
   "source": [
    "days = ['Mon', 'Tue' ,'Wed']\n",
    "for day in days:\n",
    "    print(day, end = ' ')"
   ]
  },
  {
   "cell_type": "code",
   "execution_count": 43,
   "metadata": {
    "execution": {
     "iopub.execute_input": "2020-08-30T19:53:44.577496Z",
     "iopub.status.busy": "2020-08-30T19:53:44.576528Z",
     "iopub.status.idle": "2020-08-30T19:53:44.580196Z",
     "shell.execute_reply": "2020-08-30T19:53:44.580940Z"
    },
    "papermill": {
     "duration": 0.036669,
     "end_time": "2020-08-30T19:53:44.581131",
     "exception": false,
     "start_time": "2020-08-30T19:53:44.544462",
     "status": "completed"
    },
    "tags": []
   },
   "outputs": [
    {
     "name": "stdout",
     "output_type": "stream",
     "text": [
      "0,1,2,3,4,5,6,7,8,9,10,"
     ]
    }
   ],
   "source": [
    "i=0\n",
    "while i < 11:\n",
    "    print(i, end=',')\n",
    "    i+=1"
   ]
  },
  {
   "cell_type": "markdown",
   "execution_count": null,
   "metadata": {
    "papermill": {
     "duration": 0.026794,
     "end_time": "2020-08-30T19:53:44.634652",
     "exception": false,
     "start_time": "2020-08-30T19:53:44.607858",
     "status": "completed"
    },
    "tags": []
   },
   "source": [
    "# List Comprehensions"
   ]
  },
  {
   "cell_type": "code",
   "execution_count": 44,
   "metadata": {
    "execution": {
     "iopub.execute_input": "2020-08-30T19:53:44.696266Z",
     "iopub.status.busy": "2020-08-30T19:53:44.695256Z",
     "iopub.status.idle": "2020-08-30T19:53:44.699800Z",
     "shell.execute_reply": "2020-08-30T19:53:44.699085Z"
    },
    "papermill": {
     "duration": 0.037412,
     "end_time": "2020-08-30T19:53:44.699920",
     "exception": false,
     "start_time": "2020-08-30T19:53:44.662508",
     "status": "completed"
    },
    "tags": []
   },
   "outputs": [
    {
     "data": {
      "text/plain": [
       "[0, 1, 4, 9, 16, 25, 36, 49, 64, 81]"
      ]
     },
     "execution_count": 44,
     "metadata": {},
     "output_type": "execute_result"
    }
   ],
   "source": [
    "squares = [i**2 for i in range(10)]\n",
    "squares"
   ]
  },
  {
   "cell_type": "code",
   "execution_count": 45,
   "metadata": {
    "execution": {
     "iopub.execute_input": "2020-08-30T19:53:44.763076Z",
     "iopub.status.busy": "2020-08-30T19:53:44.761990Z",
     "iopub.status.idle": "2020-08-30T19:53:44.767330Z",
     "shell.execute_reply": "2020-08-30T19:53:44.766574Z"
    },
    "papermill": {
     "duration": 0.040465,
     "end_time": "2020-08-30T19:53:44.767466",
     "exception": false,
     "start_time": "2020-08-30T19:53:44.727001",
     "status": "completed"
    },
    "tags": []
   },
   "outputs": [
    {
     "data": {
      "text/plain": [
       "['MERCURY!', 'JUPYTER!', 'SATURN!', 'URANUS!', 'NEPTUNE!']"
      ]
     },
     "execution_count": 45,
     "metadata": {},
     "output_type": "execute_result"
    }
   ],
   "source": [
    "planets = ['Mercury', 'Venus', 'Earth', 'Mars', 'Jupyter', 'Saturn', 'Uranus', 'Neptune', 'Pluto']\n",
    "big_planets = [planet.upper() + '!' for planet in planets if len(planet) > 5]\n",
    "big_planets"
   ]
  },
  {
   "cell_type": "markdown",
   "execution_count": null,
   "metadata": {
    "papermill": {
     "duration": 0.026823,
     "end_time": "2020-08-30T19:53:44.821710",
     "exception": false,
     "start_time": "2020-08-30T19:53:44.794887",
     "status": "completed"
    },
    "tags": []
   },
   "source": [
    "# Strings & Dictionaries"
   ]
  },
  {
   "cell_type": "code",
   "execution_count": 46,
   "metadata": {
    "execution": {
     "iopub.execute_input": "2020-08-30T19:53:44.883883Z",
     "iopub.status.busy": "2020-08-30T19:53:44.882852Z",
     "iopub.status.idle": "2020-08-30T19:53:44.888042Z",
     "shell.execute_reply": "2020-08-30T19:53:44.888832Z"
    },
    "papermill": {
     "duration": 0.040179,
     "end_time": "2020-08-30T19:53:44.889169",
     "exception": false,
     "start_time": "2020-08-30T19:53:44.848990",
     "status": "completed"
    },
    "tags": []
   },
   "outputs": [
    {
     "name": "stdout",
     "output_type": "stream",
     "text": [
      "Children's Academy\n",
      " We the people\n",
      "\n",
      "hello\n",
      "world\n"
     ]
    },
    {
     "data": {
      "text/plain": [
       "True"
      ]
     },
     "execution_count": 46,
     "metadata": {},
     "output_type": "execute_result"
    }
   ],
   "source": [
    "var_str_a = \"Some str\"\n",
    "var_str_with_escape_seq = 'Children\\'s Academy\\n We the people\\n'\n",
    "print(var_str_with_escape_seq)\n",
    "\n",
    "hello = \"hello\\nworld\"\n",
    "triplequoted_hello = \"\"\"hello\n",
    "world\"\"\"\n",
    "\n",
    "print(triplequoted_hello)\n",
    "\n",
    "triplequoted_hello == hello"
   ]
  },
  {
   "cell_type": "code",
   "execution_count": 47,
   "metadata": {
    "execution": {
     "iopub.execute_input": "2020-08-30T19:53:44.951674Z",
     "iopub.status.busy": "2020-08-30T19:53:44.950741Z",
     "iopub.status.idle": "2020-08-30T19:53:44.954585Z",
     "shell.execute_reply": "2020-08-30T19:53:44.955252Z"
    },
    "papermill": {
     "duration": 0.037756,
     "end_time": "2020-08-30T19:53:44.955408",
     "exception": false,
     "start_time": "2020-08-30T19:53:44.917652",
     "status": "completed"
    },
    "tags": []
   },
   "outputs": [
    {
     "data": {
      "text/plain": [
       "2"
      ]
     },
     "execution_count": 47,
     "metadata": {},
     "output_type": "execute_result"
    }
   ],
   "source": [
    "some_str = \"Lorem ipsum\"\n",
    "some_str.index('re')"
   ]
  },
  {
   "cell_type": "code",
   "execution_count": 48,
   "metadata": {
    "execution": {
     "iopub.execute_input": "2020-08-30T19:53:45.017818Z",
     "iopub.status.busy": "2020-08-30T19:53:45.016885Z",
     "iopub.status.idle": "2020-08-30T19:53:45.022326Z",
     "shell.execute_reply": "2020-08-30T19:53:45.021551Z"
    },
    "papermill": {
     "duration": 0.039016,
     "end_time": "2020-08-30T19:53:45.022484",
     "exception": false,
     "start_time": "2020-08-30T19:53:44.983468",
     "status": "completed"
    },
    "tags": []
   },
   "outputs": [
    {
     "data": {
      "text/plain": [
       "True"
      ]
     },
     "execution_count": 48,
     "metadata": {},
     "output_type": "execute_result"
    }
   ],
   "source": [
    "some_str.startswith('Lo')"
   ]
  },
  {
   "cell_type": "code",
   "execution_count": 49,
   "metadata": {
    "execution": {
     "iopub.execute_input": "2020-08-30T19:53:45.085441Z",
     "iopub.status.busy": "2020-08-30T19:53:45.084451Z",
     "iopub.status.idle": "2020-08-30T19:53:45.089175Z",
     "shell.execute_reply": "2020-08-30T19:53:45.088357Z"
    },
    "papermill": {
     "duration": 0.038599,
     "end_time": "2020-08-30T19:53:45.089310",
     "exception": false,
     "start_time": "2020-08-30T19:53:45.050711",
     "status": "completed"
    },
    "tags": []
   },
   "outputs": [
    {
     "name": "stdout",
     "output_type": "stream",
     "text": [
      "'str' object does not support item assignment\n"
     ]
    }
   ],
   "source": [
    "try: \n",
    "    some_str[2] = 'K'\n",
    "except BaseException as e:\n",
    "    print(e)\n",
    "    "
   ]
  },
  {
   "cell_type": "code",
   "execution_count": 50,
   "metadata": {
    "execution": {
     "iopub.execute_input": "2020-08-30T19:53:45.152636Z",
     "iopub.status.busy": "2020-08-30T19:53:45.151489Z",
     "iopub.status.idle": "2020-08-30T19:53:45.156368Z",
     "shell.execute_reply": "2020-08-30T19:53:45.156925Z"
    },
    "papermill": {
     "duration": 0.03934,
     "end_time": "2020-08-30T19:53:45.157118",
     "exception": false,
     "start_time": "2020-08-30T19:53:45.117778",
     "status": "completed"
    },
    "tags": []
   },
   "outputs": [
    {
     "data": {
      "text/plain": [
       "['Lorem', 'ipsum']"
      ]
     },
     "execution_count": 50,
     "metadata": {},
     "output_type": "execute_result"
    }
   ],
   "source": [
    "some_str.split()"
   ]
  },
  {
   "cell_type": "code",
   "execution_count": 51,
   "metadata": {
    "execution": {
     "iopub.execute_input": "2020-08-30T19:53:45.221609Z",
     "iopub.status.busy": "2020-08-30T19:53:45.220613Z",
     "iopub.status.idle": "2020-08-30T19:53:45.225319Z",
     "shell.execute_reply": "2020-08-30T19:53:45.224439Z"
    },
    "papermill": {
     "duration": 0.039596,
     "end_time": "2020-08-30T19:53:45.225483",
     "exception": false,
     "start_time": "2020-08-30T19:53:45.185887",
     "status": "completed"
    },
    "tags": []
   },
   "outputs": [
    {
     "name": "stdout",
     "output_type": "stream",
     "text": [
      "1956 01 31\n"
     ]
    }
   ],
   "source": [
    "datestr = '1956-01-31'\n",
    "year, month, day = datestr.split('-')\n",
    "print(year, month, day)"
   ]
  },
  {
   "cell_type": "code",
   "execution_count": 52,
   "metadata": {
    "execution": {
     "iopub.execute_input": "2020-08-30T19:53:45.290313Z",
     "iopub.status.busy": "2020-08-30T19:53:45.289212Z",
     "iopub.status.idle": "2020-08-30T19:53:45.294307Z",
     "shell.execute_reply": "2020-08-30T19:53:45.293665Z"
    },
    "papermill": {
     "duration": 0.039675,
     "end_time": "2020-08-30T19:53:45.294477",
     "exception": false,
     "start_time": "2020-08-30T19:53:45.254802",
     "status": "completed"
    },
    "tags": []
   },
   "outputs": [
    {
     "data": {
      "text/plain": [
       "'01/31/1956'"
      ]
     },
     "execution_count": 52,
     "metadata": {},
     "output_type": "execute_result"
    }
   ],
   "source": [
    "'/'.join([month, day, year])"
   ]
  },
  {
   "cell_type": "code",
   "execution_count": 53,
   "metadata": {
    "execution": {
     "iopub.execute_input": "2020-08-30T19:53:45.359660Z",
     "iopub.status.busy": "2020-08-30T19:53:45.358553Z",
     "iopub.status.idle": "2020-08-30T19:53:45.363475Z",
     "shell.execute_reply": "2020-08-30T19:53:45.362732Z"
    },
    "papermill": {
     "duration": 0.039954,
     "end_time": "2020-08-30T19:53:45.363612",
     "exception": false,
     "start_time": "2020-08-30T19:53:45.323658",
     "status": "completed"
    },
    "tags": []
   },
   "outputs": [
    {
     "data": {
      "text/plain": [
       "\"Pluto, you'll always be the 9th planet to me.\""
      ]
     },
     "execution_count": 53,
     "metadata": {},
     "output_type": "execute_result"
    }
   ],
   "source": [
    "planet = \"Pluto\"\n",
    "position = 9\n",
    "\n",
    "\"{}, you'll always be the {}th planet to me.\".format(planet, position)"
   ]
  },
  {
   "cell_type": "code",
   "execution_count": 54,
   "metadata": {
    "execution": {
     "iopub.execute_input": "2020-08-30T19:53:45.430209Z",
     "iopub.status.busy": "2020-08-30T19:53:45.429067Z",
     "iopub.status.idle": "2020-08-30T19:53:45.434129Z",
     "shell.execute_reply": "2020-08-30T19:53:45.433369Z"
    },
    "papermill": {
     "duration": 0.040714,
     "end_time": "2020-08-30T19:53:45.434278",
     "exception": false,
     "start_time": "2020-08-30T19:53:45.393564",
     "status": "completed"
    },
    "tags": []
   },
   "outputs": [
    {
     "data": {
      "text/plain": [
       "1"
      ]
     },
     "execution_count": 54,
     "metadata": {},
     "output_type": "execute_result"
    }
   ],
   "source": [
    "var_dict = {'one':1, 'two':2, 'three':3}\n",
    "var_dict['one']"
   ]
  },
  {
   "cell_type": "code",
   "execution_count": 55,
   "metadata": {
    "execution": {
     "iopub.execute_input": "2020-08-30T19:53:45.499073Z",
     "iopub.status.busy": "2020-08-30T19:53:45.498218Z",
     "iopub.status.idle": "2020-08-30T19:53:45.502318Z",
     "shell.execute_reply": "2020-08-30T19:53:45.501527Z"
    },
    "papermill": {
     "duration": 0.038922,
     "end_time": "2020-08-30T19:53:45.502482",
     "exception": false,
     "start_time": "2020-08-30T19:53:45.463560",
     "status": "completed"
    },
    "tags": []
   },
   "outputs": [
    {
     "data": {
      "text/plain": [
       "{'one': 1, 'two': 2, 'three': 3, 'eleven': 11}"
      ]
     },
     "execution_count": 55,
     "metadata": {},
     "output_type": "execute_result"
    }
   ],
   "source": [
    "var_dict['eleven'] = 11\n",
    "var_dict"
   ]
  },
  {
   "cell_type": "code",
   "execution_count": 56,
   "metadata": {
    "execution": {
     "iopub.execute_input": "2020-08-30T19:53:45.569512Z",
     "iopub.status.busy": "2020-08-30T19:53:45.568545Z",
     "iopub.status.idle": "2020-08-30T19:53:45.572881Z",
     "shell.execute_reply": "2020-08-30T19:53:45.573450Z"
    },
    "papermill": {
     "duration": 0.041701,
     "end_time": "2020-08-30T19:53:45.573618",
     "exception": false,
     "start_time": "2020-08-30T19:53:45.531917",
     "status": "completed"
    },
    "tags": []
   },
   "outputs": [
    {
     "data": {
      "text/plain": [
       "{'Mercury': 'M',\n",
       " 'Venus': 'V',\n",
       " 'Earth': 'E',\n",
       " 'Mars': 'M',\n",
       " 'Jupiter': 'J',\n",
       " 'Saturn': 'S',\n",
       " 'Uranus': 'U',\n",
       " 'Neptune': 'N'}"
      ]
     },
     "execution_count": 56,
     "metadata": {},
     "output_type": "execute_result"
    }
   ],
   "source": [
    "planets = ['Mercury', 'Venus', 'Earth', 'Mars', 'Jupiter', 'Saturn', 'Uranus', 'Neptune']\n",
    "planet_to_initial = {planet: planet[0] for planet in planets}\n",
    "planet_to_initial"
   ]
  },
  {
   "cell_type": "code",
   "execution_count": 57,
   "metadata": {
    "execution": {
     "iopub.execute_input": "2020-08-30T19:53:45.639156Z",
     "iopub.status.busy": "2020-08-30T19:53:45.638161Z",
     "iopub.status.idle": "2020-08-30T19:53:45.643082Z",
     "shell.execute_reply": "2020-08-30T19:53:45.642269Z"
    },
    "papermill": {
     "duration": 0.039983,
     "end_time": "2020-08-30T19:53:45.643212",
     "exception": false,
     "start_time": "2020-08-30T19:53:45.603229",
     "status": "completed"
    },
    "tags": []
   },
   "outputs": [
    {
     "data": {
      "text/plain": [
       "True"
      ]
     },
     "execution_count": 57,
     "metadata": {},
     "output_type": "execute_result"
    }
   ],
   "source": [
    "# in operator works on keys\n",
    "'Saturn' in planet_to_initial"
   ]
  },
  {
   "cell_type": "code",
   "execution_count": 58,
   "metadata": {
    "execution": {
     "iopub.execute_input": "2020-08-30T19:53:45.710813Z",
     "iopub.status.busy": "2020-08-30T19:53:45.709762Z",
     "iopub.status.idle": "2020-08-30T19:53:45.713969Z",
     "shell.execute_reply": "2020-08-30T19:53:45.713273Z"
    },
    "papermill": {
     "duration": 0.040822,
     "end_time": "2020-08-30T19:53:45.714116",
     "exception": false,
     "start_time": "2020-08-30T19:53:45.673294",
     "status": "completed"
    },
    "tags": []
   },
   "outputs": [
    {
     "name": "stdout",
     "output_type": "stream",
     "text": [
      "one = 1\n",
      "two = 2\n",
      "three = 3\n"
     ]
    }
   ],
   "source": [
    "numbers = {'one':1, 'two':2, 'three':3}\n",
    "for k in numbers:\n",
    "    print(\"{} = {}\".format(k, numbers[k]))"
   ]
  },
  {
   "cell_type": "code",
   "execution_count": 59,
   "metadata": {
    "execution": {
     "iopub.execute_input": "2020-08-30T19:53:45.780583Z",
     "iopub.status.busy": "2020-08-30T19:53:45.779630Z",
     "iopub.status.idle": "2020-08-30T19:53:45.784411Z",
     "shell.execute_reply": "2020-08-30T19:53:45.783781Z"
    },
    "papermill": {
     "duration": 0.039957,
     "end_time": "2020-08-30T19:53:45.784549",
     "exception": false,
     "start_time": "2020-08-30T19:53:45.744592",
     "status": "completed"
    },
    "tags": []
   },
   "outputs": [
    {
     "data": {
      "text/plain": [
       "dict_keys(['one', 'two', 'three'])"
      ]
     },
     "execution_count": 59,
     "metadata": {},
     "output_type": "execute_result"
    }
   ],
   "source": [
    "numbers.keys()"
   ]
  },
  {
   "cell_type": "code",
   "execution_count": 60,
   "metadata": {
    "execution": {
     "iopub.execute_input": "2020-08-30T19:53:45.854381Z",
     "iopub.status.busy": "2020-08-30T19:53:45.853356Z",
     "iopub.status.idle": "2020-08-30T19:53:45.858588Z",
     "shell.execute_reply": "2020-08-30T19:53:45.857925Z"
    },
    "papermill": {
     "duration": 0.043934,
     "end_time": "2020-08-30T19:53:45.858723",
     "exception": false,
     "start_time": "2020-08-30T19:53:45.814789",
     "status": "completed"
    },
    "tags": []
   },
   "outputs": [
    {
     "data": {
      "text/plain": [
       "dict_values([1, 2, 3])"
      ]
     },
     "execution_count": 60,
     "metadata": {},
     "output_type": "execute_result"
    }
   ],
   "source": [
    "numbers.values()"
   ]
  },
  {
   "cell_type": "code",
   "execution_count": 61,
   "metadata": {
    "execution": {
     "iopub.execute_input": "2020-08-30T19:53:45.926731Z",
     "iopub.status.busy": "2020-08-30T19:53:45.925867Z",
     "iopub.status.idle": "2020-08-30T19:53:45.930677Z",
     "shell.execute_reply": "2020-08-30T19:53:45.931534Z"
    },
    "papermill": {
     "duration": 0.042753,
     "end_time": "2020-08-30T19:53:45.931753",
     "exception": false,
     "start_time": "2020-08-30T19:53:45.889000",
     "status": "completed"
    },
    "tags": []
   },
   "outputs": [
    {
     "name": "stdout",
     "output_type": "stream",
     "text": [
      "   Mercury begins with \"M\"\n",
      "     Venus begins with \"V\"\n",
      "     Earth begins with \"E\"\n",
      "      Mars begins with \"M\"\n",
      "   Jupiter begins with \"J\"\n",
      "    Saturn begins with \"S\"\n",
      "    Uranus begins with \"U\"\n",
      "   Neptune begins with \"N\"\n"
     ]
    }
   ],
   "source": [
    "for planet, initial in planet_to_initial.items():\n",
    "    print(\"{} begins with \\\"{}\\\"\".format(planet.rjust(10), initial))"
   ]
  },
  {
   "cell_type": "code",
   "execution_count": 62,
   "metadata": {
    "execution": {
     "iopub.execute_input": "2020-08-30T19:53:46.000720Z",
     "iopub.status.busy": "2020-08-30T19:53:45.999672Z",
     "iopub.status.idle": "2020-08-30T19:53:46.004104Z",
     "shell.execute_reply": "2020-08-30T19:53:46.003407Z"
    },
    "papermill": {
     "duration": 0.041427,
     "end_time": "2020-08-30T19:53:46.004231",
     "exception": false,
     "start_time": "2020-08-30T19:53:45.962804",
     "status": "completed"
    },
    "tags": []
   },
   "outputs": [
    {
     "name": "stdout",
     "output_type": "stream",
     "text": [
      "                                           Mercury\n",
      "                                             Venus\n",
      "                                             Earth\n",
      "                                              Mars\n",
      "                                           Jupiter\n",
      "                                            Saturn\n",
      "                                            Uranus\n",
      "                                           Neptune\n"
     ]
    }
   ],
   "source": [
    "for planet, initial in planet_to_initial.items():\n",
    "    print(\"{}\".format(planet.rjust(50), initial))"
   ]
  },
  {
   "cell_type": "code",
   "execution_count": 63,
   "metadata": {
    "execution": {
     "iopub.execute_input": "2020-08-30T19:53:46.072759Z",
     "iopub.status.busy": "2020-08-30T19:53:46.071739Z",
     "iopub.status.idle": "2020-08-30T19:53:46.076711Z",
     "shell.execute_reply": "2020-08-30T19:53:46.075883Z"
    },
    "papermill": {
     "duration": 0.041344,
     "end_time": "2020-08-30T19:53:46.076845",
     "exception": false,
     "start_time": "2020-08-30T19:53:46.035501",
     "status": "completed"
    },
    "tags": []
   },
   "outputs": [
    {
     "data": {
      "text/plain": [
       "'...,,,..,,.asda..,.,.sdfsd'"
      ]
     },
     "execution_count": 63,
     "metadata": {},
     "output_type": "execute_result"
    }
   ],
   "source": [
    "'...,,,..,,.asda..,.,.sdfsd..,.,.,.,,'.rstrip('.,')"
   ]
  },
  {
   "cell_type": "markdown",
   "execution_count": null,
   "metadata": {
    "papermill": {
     "duration": 0.030944,
     "end_time": "2020-08-30T19:53:46.144788",
     "exception": false,
     "start_time": "2020-08-30T19:53:46.113844",
     "status": "completed"
    },
    "tags": []
   },
   "source": [
    "# Other"
   ]
  },
  {
   "cell_type": "code",
   "execution_count": 64,
   "metadata": {
    "execution": {
     "iopub.execute_input": "2020-08-30T19:53:46.216308Z",
     "iopub.status.busy": "2020-08-30T19:53:46.215410Z",
     "iopub.status.idle": "2020-08-30T19:53:46.219984Z",
     "shell.execute_reply": "2020-08-30T19:53:46.219379Z"
    },
    "papermill": {
     "duration": 0.044483,
     "end_time": "2020-08-30T19:53:46.220134",
     "exception": false,
     "start_time": "2020-08-30T19:53:46.175651",
     "status": "completed"
    },
    "tags": []
   },
   "outputs": [
    {
     "data": {
      "text/plain": [
       "array([5, 2, 2, 3, 1, 4, 4, 1, 1, 3])"
      ]
     },
     "execution_count": 64,
     "metadata": {},
     "output_type": "execute_result"
    }
   ],
   "source": [
    "# Roll 10 dice\n",
    "import numpy\n",
    "rolls = numpy.random.randint(low=1, high=6, size=10)\n",
    "rolls"
   ]
  },
  {
   "cell_type": "code",
   "execution_count": 65,
   "metadata": {
    "execution": {
     "iopub.execute_input": "2020-08-30T19:53:46.289982Z",
     "iopub.status.busy": "2020-08-30T19:53:46.289199Z",
     "iopub.status.idle": "2020-08-30T19:53:46.293849Z",
     "shell.execute_reply": "2020-08-30T19:53:46.293055Z"
    },
    "papermill": {
     "duration": 0.042544,
     "end_time": "2020-08-30T19:53:46.294029",
     "exception": false,
     "start_time": "2020-08-30T19:53:46.251485",
     "status": "completed"
    },
    "tags": []
   },
   "outputs": [
    {
     "name": "stdout",
     "output_type": "stream",
     "text": [
      "can only concatenate list (not \"int\") to list\n"
     ]
    }
   ],
   "source": [
    "try:\n",
    "    [1, 4, 5, 4, 2, 4, 3, 1, 1, 1] + 10\n",
    "\n",
    "except BaseException as e:\n",
    "    print(e)"
   ]
  },
  {
   "cell_type": "code",
   "execution_count": 66,
   "metadata": {
    "execution": {
     "iopub.execute_input": "2020-08-30T19:53:46.363194Z",
     "iopub.status.busy": "2020-08-30T19:53:46.362277Z",
     "iopub.status.idle": "2020-08-30T19:53:46.367533Z",
     "shell.execute_reply": "2020-08-30T19:53:46.366907Z"
    },
    "papermill": {
     "duration": 0.041892,
     "end_time": "2020-08-30T19:53:46.367664",
     "exception": false,
     "start_time": "2020-08-30T19:53:46.325772",
     "status": "completed"
    },
    "tags": []
   },
   "outputs": [
    {
     "data": {
      "text/plain": [
       "numpy.ndarray"
      ]
     },
     "execution_count": 66,
     "metadata": {},
     "output_type": "execute_result"
    }
   ],
   "source": [
    "type(rolls)"
   ]
  },
  {
   "cell_type": "code",
   "execution_count": 67,
   "metadata": {
    "execution": {
     "iopub.execute_input": "2020-08-30T19:53:46.437510Z",
     "iopub.status.busy": "2020-08-30T19:53:46.436640Z",
     "iopub.status.idle": "2020-08-30T19:53:46.441209Z",
     "shell.execute_reply": "2020-08-30T19:53:46.441741Z"
    },
    "papermill": {
     "duration": 0.041991,
     "end_time": "2020-08-30T19:53:46.441900",
     "exception": false,
     "start_time": "2020-08-30T19:53:46.399909",
     "status": "completed"
    },
    "tags": []
   },
   "outputs": [
    {
     "data": {
      "text/plain": [
       "array([15, 12, 12, 13, 11, 14, 14, 11, 11, 13])"
      ]
     },
     "execution_count": 67,
     "metadata": {},
     "output_type": "execute_result"
    }
   ],
   "source": [
    "rolls + 10"
   ]
  }
 ],
 "metadata": {
  "kernelspec": {
   "display_name": "Python 3",
   "language": "python",
   "name": "python3"
  },
  "language_info": {
   "codemirror_mode": {
    "name": "ipython",
    "version": 3
   },
   "file_extension": ".py",
   "mimetype": "text/x-python",
   "name": "python",
   "nbconvert_exporter": "python",
   "pygments_lexer": "ipython3",
   "version": "3.7.6"
  },
  "papermill": {
   "duration": 11.407712,
   "end_time": "2020-08-30T19:53:46.580984",
   "environment_variables": {},
   "exception": null,
   "input_path": "__notebook__.ipynb",
   "output_path": "__notebook__.ipynb",
   "parameters": {},
   "start_time": "2020-08-30T19:53:35.173272",
   "version": "2.1.0"
  }
 },
 "nbformat": 4,
 "nbformat_minor": 4
}
